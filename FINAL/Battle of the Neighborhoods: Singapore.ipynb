{
    "nbformat_minor": 1, 
    "cells": [
        {
            "source": "# Battle of the Neighborhoods: Singapore\n\n---\n\n![alt text][logo]\n\n[logo]: https://github.com/abhi-divakaran/Coursera_Capstone/raw/master/FINAL/SGlandmarks.jpg", 
            "cell_type": "markdown", 
            "metadata": {
                "collapsed": true
            }
        }, 
        {
            "source": "###  `Exploration of Singapore Neighborhoods and the Housing Prices`\n\n---", 
            "cell_type": "markdown", 
            "metadata": {}
        }, 
        {
            "source": "## I. INTRODUCTION\n\nSingapore is a city-state small island country in the South East Asia. Singapore is a modern affluent city combining of skyscrappers, industrial estates and broad transport routes. The population of Singapore sizes to more than five millions and makes the state a densely populated country.\n\nUnlike the other densely populated countries, 50% the Singapore land is covered by greenery. With more than 50 nature parks and four reservoirs its a beautiful garden city.", 
            "cell_type": "markdown", 
            "metadata": {}
        }, 
        {
            "source": "## II. TARGETED AUDIENCE\nProspective HDB flat buyers in Singapore are the primary targeted audience of this project. Singapore is well connected to its nook and corners by roads and public transport system.\nAs such it will be highly unlikely that a buyer will consider the distance to workplace as a major factor for buying a house. This project will provide a meaningful insight of the other convinience factors that influence the pricing of HDB flats.\nThis analysis will be also interesting for the people who aspiring to relocate to a different town as they gain insight of the most common venues of their interests.", 
            "cell_type": "markdown", 
            "metadata": {}
        }, 
        {
            "source": "## III. BACKGROUND\nSingapore has a large number of clean, green and modern self-contained residential towns mushroomed all over the island. Housing Development Board (HDB) is the major provider of the housing infrastructure in Singapore. A number of private residentil developers too operates in every neighborhood. HDB provides subsidized residential flats for the citizen and the Permanent Residents of Singapore.", 
            "cell_type": "markdown", 
            "metadata": {}
        }, 
        {
            "source": "## IV. PROBLEM DESCRIPTION\n\nA higher demand is the reason for higher price of HDB flats in certain Towns of Singapore.\nWhat are the towns with higher cost of ownership for HDB flats in Singapore?\nWhat are the factors influencing the demand of a HDB flat in Singapore? \nWhat type of venues in Singapore attracts most buyers for HDB flats?\nThese are the problems that we will be analyzing through this project.", 
            "cell_type": "markdown", 
            "metadata": {}
        }, 
        {
            "source": "## V. DATA AND METHODOLOGY\n\nThe details of the data used for this project are as follows\n#### 1. HDB Resale Flat Prices\nThis dataset is compiled by the Housing Development Board of Singapore and available for public use in data.gov.sg. This data comprises the price data from year 2017 January till 2019 August. We will make use of the year 2019 data. 'Apartment Block' or simply 'Block' is the trem used for a residential apartment building and 'Unit' or 'Flat'for a single apartment in the Block in Singapore. Flat prices within a block has variation due to the factors like - total floor area, number of rooms and unit level (storey) in the block. Since the project is not focusing on pricing recommendation, we will be using an average price of a unit in the block by minimizing the variables. This data contains the features 'month', 'town', 'flat_type', 'block', 'street_name', 'storey_range', 'floor_area_sqm', 'flat_model', 'lease_commence_date', 'remaining_lease' and 'resale_price'. 'resale_price' is our target value.\n#### Lets have a look at our HDB resale raw data\n", 
            "cell_type": "markdown", 
            "metadata": {}
        }, 
        {
            "execution_count": 3, 
            "cell_type": "code", 
            "metadata": {}, 
            "outputs": [
                {
                    "execution_count": 3, 
                    "metadata": {}, 
                    "data": {
                        "text/html": "<div>\n<style scoped>\n    .dataframe tbody tr th:only-of-type {\n        vertical-align: middle;\n    }\n\n    .dataframe tbody tr th {\n        vertical-align: top;\n    }\n\n    .dataframe thead th {\n        text-align: right;\n    }\n</style>\n<table border=\"1\" class=\"dataframe\">\n  <thead>\n    <tr style=\"text-align: right;\">\n      <th></th>\n      <th>month</th>\n      <th>town</th>\n      <th>flat_type</th>\n      <th>block</th>\n      <th>street_name</th>\n      <th>storey_range</th>\n      <th>floor_area_sqm</th>\n      <th>flat_model</th>\n      <th>lease_commence_date</th>\n      <th>remaining_lease</th>\n      <th>resale_price</th>\n    </tr>\n  </thead>\n  <tbody>\n    <tr>\n      <th>0</th>\n      <td>2017-01</td>\n      <td>ANG MO KIO</td>\n      <td>2 ROOM</td>\n      <td>406</td>\n      <td>ANG MO KIO AVE 10</td>\n      <td>10 TO 12</td>\n      <td>44.0</td>\n      <td>Improved</td>\n      <td>1979</td>\n      <td>61 years 04 months</td>\n      <td>232000.0</td>\n    </tr>\n    <tr>\n      <th>1</th>\n      <td>2017-01</td>\n      <td>ANG MO KIO</td>\n      <td>3 ROOM</td>\n      <td>108</td>\n      <td>ANG MO KIO AVE 4</td>\n      <td>01 TO 03</td>\n      <td>67.0</td>\n      <td>New Generation</td>\n      <td>1978</td>\n      <td>60 years 07 months</td>\n      <td>250000.0</td>\n    </tr>\n    <tr>\n      <th>2</th>\n      <td>2017-01</td>\n      <td>ANG MO KIO</td>\n      <td>3 ROOM</td>\n      <td>602</td>\n      <td>ANG MO KIO AVE 5</td>\n      <td>01 TO 03</td>\n      <td>67.0</td>\n      <td>New Generation</td>\n      <td>1980</td>\n      <td>62 years 05 months</td>\n      <td>262000.0</td>\n    </tr>\n    <tr>\n      <th>3</th>\n      <td>2017-01</td>\n      <td>ANG MO KIO</td>\n      <td>3 ROOM</td>\n      <td>465</td>\n      <td>ANG MO KIO AVE 10</td>\n      <td>04 TO 06</td>\n      <td>68.0</td>\n      <td>New Generation</td>\n      <td>1980</td>\n      <td>62 years 01 month</td>\n      <td>265000.0</td>\n    </tr>\n    <tr>\n      <th>4</th>\n      <td>2017-01</td>\n      <td>ANG MO KIO</td>\n      <td>3 ROOM</td>\n      <td>601</td>\n      <td>ANG MO KIO AVE 5</td>\n      <td>01 TO 03</td>\n      <td>67.0</td>\n      <td>New Generation</td>\n      <td>1980</td>\n      <td>62 years 05 months</td>\n      <td>265000.0</td>\n    </tr>\n  </tbody>\n</table>\n</div>", 
                        "text/plain": "     month        town flat_type block        street_name storey_range  \\\n0  2017-01  ANG MO KIO    2 ROOM   406  ANG MO KIO AVE 10     10 TO 12   \n1  2017-01  ANG MO KIO    3 ROOM   108   ANG MO KIO AVE 4     01 TO 03   \n2  2017-01  ANG MO KIO    3 ROOM   602   ANG MO KIO AVE 5     01 TO 03   \n3  2017-01  ANG MO KIO    3 ROOM   465  ANG MO KIO AVE 10     04 TO 06   \n4  2017-01  ANG MO KIO    3 ROOM   601   ANG MO KIO AVE 5     01 TO 03   \n\n   floor_area_sqm      flat_model  lease_commence_date     remaining_lease  \\\n0            44.0        Improved                 1979  61 years 04 months   \n1            67.0  New Generation                 1978  60 years 07 months   \n2            67.0  New Generation                 1980  62 years 05 months   \n3            68.0  New Generation                 1980   62 years 01 month   \n4            67.0  New Generation                 1980  62 years 05 months   \n\n   resale_price  \n0      232000.0  \n1      250000.0  \n2      262000.0  \n3      265000.0  \n4      265000.0  "
                    }, 
                    "output_type": "execute_result"
                }
            ], 
            "source": "import pandas as pd\ndf_resale= pd.read_csv('https://raw.githubusercontent.com/abhi-divakaran/Coursera_Capstone/master/FINAL/resale-flat-prices-jan-2017-onwards.csv')\ndf_resale.head(5)"
        }, 
        {
            "source": "#### 2. Location Data of Towns in Singapore\nWe have more than one data set for this. We have the public data sets - 'Electoral Boundary Data', 'Land Area and Dwelling Data' and 'SLA Land Survey Districts Data' from data.gov.sg. We will choose the most appropriate data along the project progress.The data contains the region boundary values of the place of interest.\n\n#### 3. Location Data of MRT Stations in Singapore\n\nThis data is collected from Google map API. The data contains the latitude and longitude of each MRT station in Singapore.\n\n#### 4. Top Venues Data for Towns in Singapore\nFor Venue recommendation, we will be using Foursquare API. We will be using Foursquare for exploring the neighborhood towns and MRT stations. Based on the data we will get the most common venues and we do clustering of the neighborhoods.\nWe will also query the ratings of each veneu in Foursquare.\n\n#### Pre Processing of Data\nHDB Flat prices within a block has variation due to the factors like - total floor area, number of rooms and unit level (storey) in the block. Since the project is not focusing on pricing recommendation, we will be using an average price of a unit in the block by minimizing the variables. We will drop or ignore the missing data here.\nFor the location data of Singapore Towns since we have more than one data set, we will do a comparison with the Towns described the HDB Resale price dataset and choose the most appropriate set.\nWe will merge datasets wherever it seems appropriate.\n\n#### Processing\nWe will be using 'explore' and 'getVenuesByCategory' features in Foursquare API to undestand the top venues in each town. Each town will be then clustered around the MRT stations.\nThe data will be plotted in matplotlib as well as Folium maps for a better visual understanding. Then we will compare each town and the HDB house pricing of each town. This will give an insight to the pricing variation of HDB houses in Singapore related to importance of the venues.", 
            "cell_type": "markdown", 
            "metadata": {}
        }, 
        {
            "execution_count": null, 
            "cell_type": "code", 
            "metadata": {}, 
            "outputs": [], 
            "source": ""
        }
    ], 
    "metadata": {
        "kernelspec": {
            "display_name": "Python 3.6", 
            "name": "python3", 
            "language": "python"
        }, 
        "language_info": {
            "mimetype": "text/x-python", 
            "nbconvert_exporter": "python", 
            "version": "3.6.8", 
            "name": "python", 
            "file_extension": ".py", 
            "pygments_lexer": "ipython3", 
            "codemirror_mode": {
                "version": 3, 
                "name": "ipython"
            }
        }
    }, 
    "nbformat": 4
}